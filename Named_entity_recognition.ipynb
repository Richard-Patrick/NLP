{
 "cells": [
  {
   "cell_type": "code",
   "execution_count": 50,
   "id": "b4d36c4e",
   "metadata": {},
   "outputs": [],
   "source": [
    "import en_core_web_sm\n",
    "import fitz\n",
    "import spacy\n",
    "\n",
    "import re"
   ]
  },
  {
   "cell_type": "code",
   "execution_count": 40,
   "id": "7f27cdc6",
   "metadata": {},
   "outputs": [],
   "source": [
    "nlp = en_core_web_sm.load()"
   ]
  },
  {
   "cell_type": "code",
   "execution_count": 41,
   "id": "cc087554",
   "metadata": {},
   "outputs": [],
   "source": [
    "color_map = {\n",
    "    \"PERSON\": {\"stroke\": [1, 0, 0]},       # Red\n",
    "    \"NORP\": {\"stroke\": [0, 1, 0]},         # Green\n",
    "    \"FAC\": {\"stroke\": [0, 0, 1]},          # Blue\n",
    "    \"ORG\": {\"stroke\": [1, 0.5, 0]},        # Orange\n",
    "    \"GPE\": {\"stroke\": [0.5, 0, 1]},        # Purple\n",
    "    \"LOC\": {\"stroke\": [0, 1, 1]},          # Cyan\n",
    "    \"PRODUCT\": {\"stroke\": [1, 0, 1]},      # Magenta\n",
    "    \"EVENT\": {\"stroke\": [0.5, 0.5, 0]},    # Olive\n",
    "    \"WORK_OF_ART\": {\"stroke\": [0.3, 0.7, 0.3]}, # A shade of green\n",
    "    \"LAW\": {\"stroke\": [0.7, 0.3, 0.3]},    # A shade of red\n",
    "    \"LANGUAGE\": {\"stroke\": [0.3, 0.3, 0.7]}, # A shade of blue\n",
    "    \"DATE\": {\"stroke\": [0.7, 0.7, 0.3]},   # A shade of yellow\n",
    "    \"TIME\": {\"stroke\": [0.3, 0.7, 0.7]},   # A shade of cyan\n",
    "    \"PERCENT\": {\"stroke\": [0.7, 0.3, 0.7]}, # A shade of magenta\n",
    "    \"MONEY\": {\"stroke\": [0, 0.5, 0.5]},    # A darker shade of cyan\n",
    "    \"QUANTITY\": {\"stroke\": [0.5, 0.5, 0.5]}, # Gray\n",
    "    \"ORDINAL\": {\"stroke\": [0.5, 0.5, 0]},  # Olive\n",
    "    \"CARDINAL\": {\"stroke\": [0, 0.5, 0]}    # Dark green\n",
    "}"
   ]
  },
  {
   "cell_type": "code",
   "execution_count": 61,
   "id": "ea633b6f",
   "metadata": {},
   "outputs": [],
   "source": [
    "def highlight_and_annotate_spacy_entities(page, color_map):\n",
    "    text = page.get_text(\"text\")\n",
    "    doc_spacy = nlp(text)\n",
    "\n",
    "    for entity in doc_spacy.ents:\n",
    "        color = color_map.get(entity.label_, {\"stroke\": [0.5, 0.5, 0.5]})\n",
    "        \n",
    "        # Search only for exact word matches using regex\n",
    "        pattern = r'\\b' + re.escape(entity.text) + r'\\b'\n",
    "        matches = [match.span() for match in re.finditer(pattern, text)]\n",
    "        \n",
    "        for match_start, match_end in matches:\n",
    "            match_text = text[match_start:match_end]\n",
    "            quads = page.search_for(match_text)\n",
    "            \n",
    "            for quad in quads:\n",
    "                annot = page.add_highlight_annot(quad)\n",
    "                annot.set_colors(color)\n",
    "                annot.update()"
   ]
  },
  {
   "cell_type": "code",
   "execution_count": 62,
   "id": "6197fe49",
   "metadata": {},
   "outputs": [],
   "source": [
    "nlp = spacy.load(\"en_core_web_sm\")\n",
    "\n",
    "doc = fitz.open(\"Data/timemach.pdf\")\n",
    "page = doc[4]\n",
    "\n",
    "highlight_and_annotate_spacy_entities(page, color_map)\n",
    "\n",
    "doc.save(\"highlighted.pdf\")\n",
    "doc.close()"
   ]
  },
  {
   "cell_type": "code",
   "execution_count": null,
   "id": "8bea408f",
   "metadata": {},
   "outputs": [],
   "source": []
  }
 ],
 "metadata": {
  "kernelspec": {
   "display_name": "Python 3 (ipykernel)",
   "language": "python",
   "name": "python3"
  },
  "language_info": {
   "codemirror_mode": {
    "name": "ipython",
    "version": 3
   },
   "file_extension": ".py",
   "mimetype": "text/x-python",
   "name": "python",
   "nbconvert_exporter": "python",
   "pygments_lexer": "ipython3",
   "version": "3.10.12"
  }
 },
 "nbformat": 4,
 "nbformat_minor": 5
}
