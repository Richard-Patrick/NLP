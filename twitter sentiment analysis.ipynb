{
 "cells": [
  {
   "cell_type": "code",
   "execution_count": 2,
   "id": "b4d36c4e",
   "metadata": {},
   "outputs": [],
   "source": [
    "import numpy as np\n",
    "import pandas as pd\n",
    "import re"
   ]
  },
  {
   "cell_type": "code",
   "execution_count": 3,
   "id": "3324cd69",
   "metadata": {},
   "outputs": [],
   "source": [
    "def remove_mentions(text):\n",
    "    return re.sub(r'@\\w+', '', text)"
   ]
  },
  {
   "cell_type": "code",
   "execution_count": 4,
   "id": "a6054993",
   "metadata": {},
   "outputs": [],
   "source": [
    "def remove_urls(text):\n",
    "    return re.sub(r'http\\S+|www.\\S+', '', text)"
   ]
  },
  {
   "cell_type": "code",
   "execution_count": 5,
   "id": "164495de",
   "metadata": {},
   "outputs": [],
   "source": [
    "def find_hashtags(text):\n",
    "    return [word for word in text.split() if word.startswith('#')]"
   ]
  },
  {
   "cell_type": "code",
   "execution_count": 6,
   "id": "8c6e53d6",
   "metadata": {},
   "outputs": [],
   "source": [
    "def remove_hashtags(text):\n",
    "    return re.sub(r'#\\w+', '', text)"
   ]
  },
  {
   "cell_type": "code",
   "execution_count": 7,
   "id": "84283e69",
   "metadata": {},
   "outputs": [],
   "source": [
    "def remove_code(text):\n",
    "    return ''.join(char for char in text if ord(char) < 128)"
   ]
  },
  {
   "cell_type": "code",
   "execution_count": 8,
   "id": "3c4ff956",
   "metadata": {},
   "outputs": [],
   "source": [
    "def remove_newlines(text):\n",
    "    return text.replace('\\n', ' ').replace('\\t', ' ')"
   ]
  },
  {
   "cell_type": "code",
   "execution_count": 9,
   "id": "917b6de7",
   "metadata": {},
   "outputs": [],
   "source": [
    "train_data = pd.read_csv('data/twitter/Tweets_train.csv',encoding = 'latin')\n",
    "test_data = pd.read_csv('data/twitter/Tweets_test.csv',encoding = 'latin')"
   ]
  },
  {
   "cell_type": "code",
   "execution_count": 10,
   "id": "05823ceb",
   "metadata": {},
   "outputs": [],
   "source": [
    "train_data = train_data.drop(['tweet_id'], axis=1)\n",
    "test_data = test_data.drop(['tweet_id'], axis=1)"
   ]
  },
  {
   "cell_type": "code",
   "execution_count": 11,
   "id": "f1193425",
   "metadata": {},
   "outputs": [],
   "source": [
    "train_data['text'] = [remove_mentions(text) for text in train_data['text']]\n",
    "test_data['text'] = [remove_mentions(text) for text in test_data['text']]"
   ]
  },
  {
   "cell_type": "code",
   "execution_count": 12,
   "id": "e055b123",
   "metadata": {},
   "outputs": [],
   "source": [
    "train_data['hashtags'] = train_data['text'].apply(find_hashtags)\n",
    "test_data['hashtags'] = test_data['text'].apply(find_hashtags)"
   ]
  },
  {
   "cell_type": "code",
   "execution_count": 13,
   "id": "4a4918f4",
   "metadata": {},
   "outputs": [],
   "source": [
    "train_data['text'] =[remove_hashtags(text) for text in train_data['text']]\n",
    "test_data['text'] =[remove_hashtags(text) for text in test_data['text']]"
   ]
  },
  {
   "cell_type": "code",
   "execution_count": 14,
   "id": "0acbc6ac",
   "metadata": {},
   "outputs": [],
   "source": [
    "train_data['text'] =[remove_urls(text) for text in train_data['text']]\n",
    "test_data['text'] =[remove_urls(text) for text in test_data['text']]"
   ]
  },
  {
   "cell_type": "code",
   "execution_count": 15,
   "id": "f89bbe79",
   "metadata": {},
   "outputs": [],
   "source": [
    "train_data['text'] =[remove_code(text) for text in train_data['text']]\n",
    "test_data['text'] =[remove_code(text) for text in test_data['text']]"
   ]
  },
  {
   "cell_type": "code",
   "execution_count": 16,
   "id": "215c2b1e",
   "metadata": {},
   "outputs": [],
   "source": [
    "train_data['text'] =[remove_newlines(text) for text in train_data['text']]\n",
    "test_data['text'] =[remove_newlines(text) for text in test_data['text']]"
   ]
  },
  {
   "cell_type": "code",
   "execution_count": 17,
   "id": "5e495d94",
   "metadata": {},
   "outputs": [
    {
     "data": {
      "text/plain": [
       "0                                  you're good. Thank you!\n",
       "1         way to ruin a vacation, my brother has called...\n",
       "2         yes thankfully! Catering just got here and no...\n",
       "3         The automated message isn't helpful and it's ...\n",
       "4                                         I'm  on my  to  \n",
       "                               ...                        \n",
       "11853     will not help us on the phone, at the gate or...\n",
       "11854     has the worst customer service line.  I've ca...\n",
       "11855     grades for this trip:  Flight timeliness:  Ca...\n",
       "11856     Thanks for the vague canned response that doe...\n",
       "11857     already did that at the airport and 12 hrs La...\n",
       "Name: text, Length: 11858, dtype: object"
      ]
     },
     "execution_count": 17,
     "metadata": {},
     "output_type": "execute_result"
    }
   ],
   "source": [
    "train_data['text']"
   ]
  },
  {
   "cell_type": "code",
   "execution_count": null,
   "id": "0481b158",
   "metadata": {},
   "outputs": [],
   "source": []
  },
  {
   "cell_type": "code",
   "execution_count": null,
   "id": "7a12864b",
   "metadata": {},
   "outputs": [],
   "source": []
  },
  {
   "cell_type": "code",
   "execution_count": null,
   "id": "638ba306",
   "metadata": {},
   "outputs": [],
   "source": []
  },
  {
   "cell_type": "code",
   "execution_count": null,
   "id": "82e9e64b",
   "metadata": {},
   "outputs": [],
   "source": []
  }
 ],
 "metadata": {
  "kernelspec": {
   "display_name": "Python 3 (ipykernel)",
   "language": "python",
   "name": "python3"
  },
  "language_info": {
   "codemirror_mode": {
    "name": "ipython",
    "version": 3
   },
   "file_extension": ".py",
   "mimetype": "text/x-python",
   "name": "python",
   "nbconvert_exporter": "python",
   "pygments_lexer": "ipython3",
   "version": "3.10.12"
  }
 },
 "nbformat": 4,
 "nbformat_minor": 5
}
